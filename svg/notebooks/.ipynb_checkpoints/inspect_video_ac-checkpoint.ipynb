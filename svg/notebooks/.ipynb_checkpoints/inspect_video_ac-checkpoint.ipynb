{
 "cells": [
  {
   "cell_type": "code",
   "execution_count": 61,
   "metadata": {},
   "outputs": [],
   "source": [
    "%matplotlib inline\n",
    "import matplotlib\n",
    "import numpy as np\n",
    "import matplotlib.pyplot as plt\n",
    "import glob\n",
    "import os\n",
    "from scipy.misc import imread\n",
    "import imageio\n",
    "from IPython.display import Image\n",
    "from IPython.display import display\n",
    "from IPython.display import clear_output"
   ]
  },
  {
   "cell_type": "code",
   "execution_count": 62,
   "metadata": {},
   "outputs": [],
   "source": [
    "DATASET_PATH = '/data/vision/phillipi/gen-models/svg/dataset/omnipush'\n",
    "train_seq_dirs = glob.glob(os.path.join(DATASET_PATH, 'train/**/*'))\n",
    "test_seq_dirs = glob.glob(os.path.join(DATASET_PATH, 'test/**/*'))"
   ]
  },
  {
   "cell_type": "code",
   "execution_count": 77,
   "metadata": {},
   "outputs": [],
   "source": [
    "def inspect_seq(seq_dir):\n",
    "    ims = []\n",
    "    fnames = glob.glob(os.path.join(seq_dir, '*.png'))\n",
    "    for i in range(len(fnames)):\n",
    "        # image\n",
    "        fname = os.path.join(seq_dir, '{}.png'.format(i))\n",
    "        im = imageio.imread(fname).reshape(64, 64, 3)\n",
    "        ims.append(im)\n",
    "    \n",
    "    clear_output(wait=True)\n",
    "    os.remove('./tmp.gif')\n",
    "    imageio.mimsave('./tmp.gif', ims)\n",
    "    with open('./tmp.gif','rb') as f:\n",
    "        display(Image(data=f.read(), format='gif'))\n",
    "    actions = np.load(os.path.join(seq_dir, 'actions.npy'))\n",
    "    print(np.around(actions[0][2] / np.pi * 180.0, decimals=2))"
   ]
  },
  {
   "cell_type": "code",
   "execution_count": 93,
   "metadata": {},
   "outputs": [
    {
     "data": {
      "text/html": [
       "<img src=\"./tmp.gif\"/>"
      ],
      "text/plain": [
       "<IPython.core.display.Image object>"
      ]
     },
     "metadata": {},
     "output_type": "display_data"
    },
    {
     "name": "stdout",
     "output_type": "stream",
     "text": [
      "126.19\n",
      "/data/vision/phillipi/gen-models/svg/dataset/omnipush/train/3a4a3a4a/motion_surface=abs_shape=3a4a3a4a_v=50_rep=0004_push=0004_t=-0.937\n"
     ]
    }
   ],
   "source": [
    "train_seq_dir = train_seq_dirs[np.random.randint(len(train_seq_dirs))]\n",
    "inspect_seq(train_seq_dir)\n",
    "print(train_seq_dir)"
   ]
  },
  {
   "cell_type": "code",
   "execution_count": 72,
   "metadata": {},
   "outputs": [
    {
     "data": {
      "text/html": [
       "<img src=\"./tmp.gif\"/>"
      ],
      "text/plain": [
       "<IPython.core.display.Image object>"
      ]
     },
     "metadata": {},
     "output_type": "display_data"
    },
    {
     "name": "stdout",
     "output_type": "stream",
     "text": [
      "-179.64\n"
     ]
    }
   ],
   "source": [
    "test_seq_dir = test_seq_dirs[np.random.randint(len(test_seq_dirs))]\n",
    "inspect_seq(test_seq_dir)"
   ]
  }
 ],
 "metadata": {
  "kernelspec": {
   "display_name": "Python 3",
   "language": "python",
   "name": "python3"
  },
  "language_info": {
   "codemirror_mode": {
    "name": "ipython",
    "version": 3
   },
   "file_extension": ".py",
   "mimetype": "text/x-python",
   "name": "python",
   "nbconvert_exporter": "python",
   "pygments_lexer": "ipython3",
   "version": "3.6.5"
  }
 },
 "nbformat": 4,
 "nbformat_minor": 2
}
